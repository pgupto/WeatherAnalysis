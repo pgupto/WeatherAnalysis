{
 "cells": [
  {
   "cell_type": "code",
   "execution_count": 89,
   "metadata": {
    "collapsed": true
   },
   "outputs": [],
   "source": [
    "import matplotlib.pyplot as plt\n",
    "import pandas as pd\n",
    "from datetime import date\n",
    "from sqlalchemy.ext.automap import automap_base\n",
    "from datetime import date\n",
    "from sqlalchemy.orm import Session\n",
    "from flask import Flask, jsonify"
   ]
  },
  {
   "cell_type": "code",
   "execution_count": 90,
   "metadata": {
    "collapsed": true
   },
   "outputs": [],
   "source": [
    "clean_hawaii_measure=pd.read_csv('clean_hawaii_measurements.csv')\n",
    "stations_hawaii = pd.read_csv('hawaii_stations.csv')"
   ]
  },
  {
   "cell_type": "code",
   "execution_count": 91,
   "metadata": {
    "collapsed": true
   },
   "outputs": [],
   "source": [
    "clean_hawaii_measure=clean_hawaii_measure.drop(clean_hawaii_measure.columns[0],axis=1)"
   ]
  },
  {
   "cell_type": "code",
   "execution_count": 92,
   "metadata": {
    "collapsed": true
   },
   "outputs": [],
   "source": [
    "from sqlalchemy import create_engine, MetaData"
   ]
  },
  {
   "cell_type": "code",
   "execution_count": 93,
   "metadata": {
    "collapsed": true
   },
   "outputs": [],
   "source": [
    "engine = create_engine('sqlite:///hawaii.sqlite')\n",
    "conn=engine.connect()"
   ]
  },
  {
   "cell_type": "code",
   "execution_count": 94,
   "metadata": {},
   "outputs": [],
   "source": [
    "from sqlalchemy import Column, Integer, String\n",
    "from sqlalchemy.ext.declarative import declarative_base"
   ]
  },
  {
   "cell_type": "code",
   "execution_count": 95,
   "metadata": {
    "collapsed": true
   },
   "outputs": [],
   "source": [
    "#http://docs.sqlalchemy.org/en/latest/orm/extensions/declarative/basic_use.html\n",
    "Base = declarative_base()"
   ]
  },
  {
   "cell_type": "code",
   "execution_count": 96,
   "metadata": {},
   "outputs": [],
   "source": [
    "class Station(Base):\n",
    "    __tablename__='station_hawaii'\n",
    "    \n",
    "    id = Column(Integer, primary_key=True)\n",
    "    station = Column(String)\n",
    "    name = Column(String)\n",
    "    latitude = Column(Float)\n",
    "    longitude = Column(Float)\n",
    "    elevation = Column(Float)\n",
    "    \n",
    "    def __repr__(self):\n",
    "        return \"<(%r, %r, %r, %r, %r)>\" % (self.station, self.name, self.latitude, self.longitude, self.elevation)"
   ]
  },
  {
   "cell_type": "code",
   "execution_count": 97,
   "metadata": {},
   "outputs": [],
   "source": [
    "class Measurement(Base):\n",
    "    __tablename__='weather_measurement'\n",
    "    \n",
    "    id = Column(Integer, primary_key=True)\n",
    "    station = Column(String)\n",
    "    date = Column(Text)\n",
    "    prcp = Column(Float)\n",
    "    tobs = Column(Integer)\n",
    "    \n",
    "    def __repr__(self):\n",
    "        return \"<(%r, %r, %r, %r)>\" % (self.station, self.date, self.prcp, self.tobs)"
   ]
  },
  {
   "cell_type": "code",
   "execution_count": 98,
   "metadata": {
    "collapsed": true
   },
   "outputs": [],
   "source": [
    "#http://docs.sqlalchemy.org/en/latest/core/metadata.html\n",
    "Base.metadata.create_all(engine)"
   ]
  },
  {
   "cell_type": "code",
   "execution_count": 99,
   "metadata": {},
   "outputs": [],
   "source": [
    "#https://pandas.pydata.org/pandas-docs/stable/generated/pandas.DataFrame.to_dict.html\n",
    "measure=clean_hawaii_measure.to_dict(orient='records')"
   ]
  },
  {
   "cell_type": "code",
   "execution_count": 100,
   "metadata": {
    "collapsed": true
   },
   "outputs": [],
   "source": [
    "station=stations_hawaii.to_dict(orient='records')"
   ]
  },
  {
   "cell_type": "code",
   "execution_count": 101,
   "metadata": {},
   "outputs": [],
   "source": [
    "# Heading 1 : Reflecting All Tables at Once"
   ]
  },
  {
   "cell_type": "code",
   "execution_count": 102,
   "metadata": {},
   "outputs": [],
   "source": [
    "#http://docs.sqlalchemy.org/en/latest/core/reflection.html\n",
    "meta=MetaData(bind=engine)\n",
    "meta.reflect()"
   ]
  },
  {
   "cell_type": "code",
   "execution_count": 103,
   "metadata": {
    "collapsed": true
   },
   "outputs": [],
   "source": [
    "import sqlalchemy"
   ]
  },
  {
   "cell_type": "code",
   "execution_count": 110,
   "metadata": {},
   "outputs": [],
   "source": [
    "station_datab=sqlalchemy.Table('station_hawaii', metadata, autoload=True)"
   ]
  },
  {
   "cell_type": "code",
   "execution_count": 111,
   "metadata": {},
   "outputs": [],
   "source": [
    "measurement_datab=sqlalchemy.Table('weather_measurement', metadata, autoload=True)"
   ]
  },
  {
   "cell_type": "code",
   "execution_count": null,
   "metadata": {
    "collapsed": true
   },
   "outputs": [],
   "source": [
    "#Heading 2: Connecting to the engine "
   ]
  },
  {
   "cell_type": "code",
   "execution_count": 113,
   "metadata": {},
   "outputs": [
    {
     "data": {
      "text/plain": [
       "<sqlalchemy.engine.result.ResultProxy at 0x115678e48>"
      ]
     },
     "execution_count": 113,
     "metadata": {},
     "output_type": "execute_result"
    }
   ],
   "source": [
    "conn.execute(station_datab.insert(),station)"
   ]
  },
  {
   "cell_type": "code",
   "execution_count": 114,
   "metadata": {},
   "outputs": [
    {
     "data": {
      "text/plain": [
       "<sqlalchemy.engine.result.ResultProxy at 0x1150b7fd0>"
      ]
     },
     "execution_count": 114,
     "metadata": {},
     "output_type": "execute_result"
    }
   ],
   "source": [
    "conn.execute(measurement_datab.insert(),measure)"
   ]
  },
  {
   "cell_type": "code",
   "execution_count": 116,
   "metadata": {},
   "outputs": [
    {
     "data": {
      "text/plain": [
       "[(1, 'USC00519397', '2010-01-01', 0.08, 65),\n",
       " (2, 'USC00519397', '2010-01-02', 0.0, 63),\n",
       " (3, 'USC00519397', '2010-01-03', 0.0, 74),\n",
       " (4, 'USC00519397', '2010-01-04', 0.0, 76),\n",
       " (5, 'USC00519397', '2010-01-07', 0.06, 70),\n",
       " (6, 'USC00519397', '2010-01-08', 0.0, 64),\n",
       " (7, 'USC00519397', '2010-01-09', 0.0, 68),\n",
       " (8, 'USC00519397', '2010-01-10', 0.0, 73),\n",
       " (9, 'USC00519397', '2010-01-11', 0.01, 64),\n",
       " (10, 'USC00519397', '2010-01-12', 0.0, 61),\n",
       " (11, 'USC00519397', '2010-01-14', 0.0, 66),\n",
       " (12, 'USC00519397', '2010-01-15', 0.0, 65),\n",
       " (13, 'USC00519397', '2010-01-16', 0.0, 68),\n",
       " (14, 'USC00519397', '2010-01-17', 0.0, 64),\n",
       " (15, 'USC00519397', '2010-01-18', 0.0, 72),\n",
       " (16, 'USC00519397', '2010-01-19', 0.0, 66),\n",
       " (17, 'USC00519397', '2010-01-20', 0.0, 66),\n",
       " (18, 'USC00519397', '2010-01-21', 0.0, 69),\n",
       " (19, 'USC00519397', '2010-01-22', 0.0, 67),\n",
       " (20, 'USC00519397', '2010-01-23', 0.0, 67),\n",
       " (21, 'USC00519397', '2010-01-24', 0.01, 71),\n",
       " (22, 'USC00519397', '2010-01-25', 0.0, 67),\n",
       " (23, 'USC00519397', '2010-01-26', 0.04, 76),\n",
       " (24, 'USC00519397', '2010-01-27', 0.12, 68),\n",
       " (25, 'USC00519397', '2010-01-28', 0.0, 72),\n",
       " (26, 'USC00519397', '2010-01-31', 0.03, 67),\n",
       " (27, 'USC00519397', '2010-02-01', 0.01, 66),\n",
       " (28, 'USC00519397', '2010-02-04', 0.01, 69),\n",
       " (29, 'USC00519397', '2010-02-05', 0.0, 67),\n",
       " (30, 'USC00519397', '2010-02-06', 0.0, 67),\n",
       " (31, 'USC00519397', '2010-02-07', 0.0, 64),\n",
       " (32, 'USC00519397', '2010-02-08', 0.0, 69),\n",
       " (33, 'USC00519397', '2010-02-09', 0.0, 73),\n",
       " (34, 'USC00519397', '2010-02-11', 0.0, 73),\n",
       " (35, 'USC00519397', '2010-02-12', 0.02, 69),\n",
       " (36, 'USC00519397', '2010-02-13', 0.01, 69),\n",
       " (37, 'USC00519397', '2010-02-14', 0.0, 69),\n",
       " (38, 'USC00519397', '2010-02-15', 0.0, 71),\n",
       " (39, 'USC00519397', '2010-02-16', 0.0, 61),\n",
       " (40, 'USC00519397', '2010-02-17', 0.0, 69),\n",
       " (41, 'USC00519397', '2010-02-20', 0.03, 64),\n",
       " (42, 'USC00519397', '2010-02-21', 0.0, 65),\n",
       " (43, 'USC00519397', '2010-02-22', 0.0, 67),\n",
       " (44, 'USC00519397', '2010-02-23', 0.0, 68),\n",
       " (45, 'USC00519397', '2010-02-24', 0.0, 65),\n",
       " (46, 'USC00519397', '2010-02-25', 0.0, 76),\n",
       " (47, 'USC00519397', '2010-02-26', 0.0, 75),\n",
       " (48, 'USC00519397', '2010-02-28', 0.0, 66),\n",
       " (49, 'USC00519397', '2010-03-01', 0.01, 70),\n",
       " (50, 'USC00519397', '2010-03-02', 0.0, 72)]"
      ]
     },
     "execution_count": 116,
     "metadata": {},
     "output_type": "execute_result"
    }
   ],
   "source": [
    "conn.execute('select * from weather_measurement limit 50').fetchall()"
   ]
  },
  {
   "cell_type": "code",
   "execution_count": null,
   "metadata": {
    "collapsed": true
   },
   "outputs": [],
   "source": []
  }
 ],
 "metadata": {
  "kernelspec": {
   "display_name": "Python 3",
   "language": "python",
   "name": "python3"
  },
  "language_info": {
   "codemirror_mode": {
    "name": "ipython",
    "version": 3
   },
   "file_extension": ".py",
   "mimetype": "text/x-python",
   "name": "python",
   "nbconvert_exporter": "python",
   "pygments_lexer": "ipython3",
   "version": "3.6.1"
  }
 },
 "nbformat": 4,
 "nbformat_minor": 2
}
