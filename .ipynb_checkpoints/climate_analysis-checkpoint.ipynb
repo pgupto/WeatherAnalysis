{
 "cells": [
  {
   "cell_type": "code",
   "execution_count": 33,
   "metadata": {
    "collapsed": true
   },
   "outputs": [],
   "source": [
    "import pandas as pd\n",
    "import matplotlib.pyplot as plt\n",
    "import bokeh\n",
    "import datetime\n",
    "import sqlalchemy"
   ]
  },
  {
   "cell_type": "code",
   "execution_count": 80,
   "metadata": {
    "collapsed": true
   },
   "outputs": [],
   "source": [
    "from datetime import date\n",
    "from sqlalchemy import create_engine, func\n",
    "from sqlalchemy.ext.automap import automap_base\n",
    "from flask import Flask, jsonify\n",
    "from sqlalchemy.orm import Session\n",
    "from sqlalchemy import Column, Integer, String, Text, Date, Float, func\n",
    "from bokeh.plotting import figure, output_file, show"
   ]
  },
  {
   "cell_type": "code",
   "execution_count": 43,
   "metadata": {
    "collapsed": true
   },
   "outputs": [],
   "source": [
    "engine = create_engine('sqlite:///hawaii.sqlite')"
   ]
  },
  {
   "cell_type": "code",
   "execution_count": 44,
   "metadata": {
    "collapsed": true
   },
   "outputs": [],
   "source": [
    "Base=automap_base()"
   ]
  },
  {
   "cell_type": "code",
   "execution_count": 45,
   "metadata": {
    "collapsed": true
   },
   "outputs": [],
   "source": [
    "Base.prepare(engine, reflect=True)"
   ]
  },
  {
   "cell_type": "code",
   "execution_count": 53,
   "metadata": {},
   "outputs": [
    {
     "data": {
      "text/plain": [
       "['station_hawaii', 'weather_measurement']"
      ]
     },
     "execution_count": 53,
     "metadata": {},
     "output_type": "execute_result"
    }
   ],
   "source": [
    "Base.classes.keys()"
   ]
  },
  {
   "cell_type": "code",
   "execution_count": 68,
   "metadata": {
    "collapsed": true
   },
   "outputs": [],
   "source": [
    "stations = Base.classes.station_hawaii\n",
    "measurement = Base.classes.weather_measurement"
   ]
  },
  {
   "cell_type": "code",
   "execution_count": 69,
   "metadata": {
    "collapsed": true
   },
   "outputs": [],
   "source": [
    "# Heading 1: Statistical Analysis"
   ]
  },
  {
   "cell_type": "code",
   "execution_count": 70,
   "metadata": {},
   "outputs": [],
   "source": [
    "stations = pd.read_sql_query(\"SELECT * FROM station_hawaii\",engine)"
   ]
  },
  {
   "cell_type": "code",
   "execution_count": 71,
   "metadata": {},
   "outputs": [],
   "source": [
    "measurement = pd.read_sql_query(\"SELECT * FROM weather_measurement\", engine)"
   ]
  },
  {
   "cell_type": "code",
   "execution_count": 72,
   "metadata": {},
   "outputs": [],
   "source": [
    "session = Session(engine)"
   ]
  },
  {
   "cell_type": "code",
   "execution_count": 73,
   "metadata": {},
   "outputs": [],
   "source": [
    "measurement['date'] = measurement['date'].astype('datetime64[ns]')"
   ]
  },
  {
   "cell_type": "code",
   "execution_count": 67,
   "metadata": {},
   "outputs": [
    {
     "data": {
      "text/plain": [
       "0       2010-01-01\n",
       "1       2010-01-02\n",
       "2       2010-01-03\n",
       "3       2010-01-04\n",
       "4       2010-01-07\n",
       "5       2010-01-08\n",
       "6       2010-01-09\n",
       "7       2010-01-10\n",
       "8       2010-01-11\n",
       "9       2010-01-12\n",
       "10      2010-01-14\n",
       "11      2010-01-15\n",
       "12      2010-01-16\n",
       "13      2010-01-17\n",
       "14      2010-01-18\n",
       "15      2010-01-19\n",
       "16      2010-01-20\n",
       "17      2010-01-21\n",
       "18      2010-01-22\n",
       "19      2010-01-23\n",
       "20      2010-01-24\n",
       "21      2010-01-25\n",
       "22      2010-01-26\n",
       "23      2010-01-27\n",
       "24      2010-01-28\n",
       "25      2010-01-31\n",
       "26      2010-02-01\n",
       "27      2010-02-04\n",
       "28      2010-02-05\n",
       "29      2010-02-06\n",
       "           ...    \n",
       "18073   2017-07-17\n",
       "18074   2017-07-18\n",
       "18075   2017-07-19\n",
       "18076   2017-07-20\n",
       "18077   2017-07-21\n",
       "18078   2017-07-22\n",
       "18079   2017-07-23\n",
       "18080   2017-07-24\n",
       "18081   2017-07-25\n",
       "18082   2017-07-26\n",
       "18083   2017-07-27\n",
       "18084   2017-07-28\n",
       "18085   2017-07-29\n",
       "18086   2017-07-30\n",
       "18087   2017-07-31\n",
       "18088   2017-08-02\n",
       "18089   2017-08-03\n",
       "18090   2017-08-07\n",
       "18091   2017-08-08\n",
       "18092   2017-08-09\n",
       "18093   2017-08-10\n",
       "18094   2017-08-12\n",
       "18095   2017-08-14\n",
       "18096   2017-08-15\n",
       "18097   2017-08-16\n",
       "18098   2017-08-17\n",
       "18099   2017-08-19\n",
       "18100   2017-08-21\n",
       "18101   2017-08-22\n",
       "18102   2017-08-23\n",
       "Name: date, Length: 18103, dtype: datetime64[ns]"
      ]
     },
     "execution_count": 67,
     "metadata": {},
     "output_type": "execute_result"
    }
   ],
   "source": [
    "measurement['date']"
   ]
  },
  {
   "cell_type": "code",
   "execution_count": 76,
   "metadata": {},
   "outputs": [
    {
     "data": {
      "text/html": [
       "<div>\n",
       "<style>\n",
       "    .dataframe thead tr:only-child th {\n",
       "        text-align: right;\n",
       "    }\n",
       "\n",
       "    .dataframe thead th {\n",
       "        text-align: left;\n",
       "    }\n",
       "\n",
       "    .dataframe tbody tr th {\n",
       "        vertical-align: top;\n",
       "    }\n",
       "</style>\n",
       "<table border=\"1\" class=\"dataframe\">\n",
       "  <thead>\n",
       "    <tr style=\"text-align: right;\">\n",
       "      <th></th>\n",
       "      <th>id</th>\n",
       "      <th>station</th>\n",
       "      <th>date</th>\n",
       "      <th>prcp</th>\n",
       "      <th>tobs</th>\n",
       "    </tr>\n",
       "  </thead>\n",
       "  <tbody>\n",
       "    <tr>\n",
       "      <th>2109</th>\n",
       "      <td>2110</td>\n",
       "      <td>USC00519397</td>\n",
       "      <td>2016-01-19</td>\n",
       "      <td>0.00</td>\n",
       "      <td>63</td>\n",
       "    </tr>\n",
       "    <tr>\n",
       "      <th>2110</th>\n",
       "      <td>2111</td>\n",
       "      <td>USC00519397</td>\n",
       "      <td>2016-01-20</td>\n",
       "      <td>0.00</td>\n",
       "      <td>68</td>\n",
       "    </tr>\n",
       "    <tr>\n",
       "      <th>2111</th>\n",
       "      <td>2112</td>\n",
       "      <td>USC00519397</td>\n",
       "      <td>2016-01-21</td>\n",
       "      <td>0.00</td>\n",
       "      <td>71</td>\n",
       "    </tr>\n",
       "    <tr>\n",
       "      <th>2112</th>\n",
       "      <td>2113</td>\n",
       "      <td>USC00519397</td>\n",
       "      <td>2016-01-22</td>\n",
       "      <td>0.00</td>\n",
       "      <td>70</td>\n",
       "    </tr>\n",
       "    <tr>\n",
       "      <th>2113</th>\n",
       "      <td>2114</td>\n",
       "      <td>USC00519397</td>\n",
       "      <td>2016-01-23</td>\n",
       "      <td>0.00</td>\n",
       "      <td>70</td>\n",
       "    </tr>\n",
       "    <tr>\n",
       "      <th>2114</th>\n",
       "      <td>2115</td>\n",
       "      <td>USC00519397</td>\n",
       "      <td>2016-01-24</td>\n",
       "      <td>0.00</td>\n",
       "      <td>70</td>\n",
       "    </tr>\n",
       "    <tr>\n",
       "      <th>2115</th>\n",
       "      <td>2116</td>\n",
       "      <td>USC00519397</td>\n",
       "      <td>2016-01-25</td>\n",
       "      <td>0.04</td>\n",
       "      <td>71</td>\n",
       "    </tr>\n",
       "    <tr>\n",
       "      <th>2116</th>\n",
       "      <td>2117</td>\n",
       "      <td>USC00519397</td>\n",
       "      <td>2016-01-26</td>\n",
       "      <td>0.16</td>\n",
       "      <td>68</td>\n",
       "    </tr>\n",
       "    <tr>\n",
       "      <th>2117</th>\n",
       "      <td>2118</td>\n",
       "      <td>USC00519397</td>\n",
       "      <td>2016-01-27</td>\n",
       "      <td>0.01</td>\n",
       "      <td>68</td>\n",
       "    </tr>\n",
       "    <tr>\n",
       "      <th>2118</th>\n",
       "      <td>2119</td>\n",
       "      <td>USC00519397</td>\n",
       "      <td>2016-01-28</td>\n",
       "      <td>0.00</td>\n",
       "      <td>65</td>\n",
       "    </tr>\n",
       "    <tr>\n",
       "      <th>2119</th>\n",
       "      <td>2120</td>\n",
       "      <td>USC00519397</td>\n",
       "      <td>2016-01-29</td>\n",
       "      <td>0.00</td>\n",
       "      <td>67</td>\n",
       "    </tr>\n",
       "    <tr>\n",
       "      <th>2120</th>\n",
       "      <td>2121</td>\n",
       "      <td>USC00519397</td>\n",
       "      <td>2016-01-30</td>\n",
       "      <td>0.00</td>\n",
       "      <td>65</td>\n",
       "    </tr>\n",
       "    <tr>\n",
       "      <th>2121</th>\n",
       "      <td>2122</td>\n",
       "      <td>USC00519397</td>\n",
       "      <td>2016-01-31</td>\n",
       "      <td>0.00</td>\n",
       "      <td>69</td>\n",
       "    </tr>\n",
       "    <tr>\n",
       "      <th>2122</th>\n",
       "      <td>2123</td>\n",
       "      <td>USC00519397</td>\n",
       "      <td>2016-02-01</td>\n",
       "      <td>0.00</td>\n",
       "      <td>69</td>\n",
       "    </tr>\n",
       "    <tr>\n",
       "      <th>2123</th>\n",
       "      <td>2124</td>\n",
       "      <td>USC00519397</td>\n",
       "      <td>2016-02-02</td>\n",
       "      <td>0.06</td>\n",
       "      <td>68</td>\n",
       "    </tr>\n",
       "    <tr>\n",
       "      <th>2124</th>\n",
       "      <td>2125</td>\n",
       "      <td>USC00519397</td>\n",
       "      <td>2016-02-03</td>\n",
       "      <td>0.00</td>\n",
       "      <td>70</td>\n",
       "    </tr>\n",
       "    <tr>\n",
       "      <th>2125</th>\n",
       "      <td>2126</td>\n",
       "      <td>USC00519397</td>\n",
       "      <td>2016-02-04</td>\n",
       "      <td>0.00</td>\n",
       "      <td>66</td>\n",
       "    </tr>\n",
       "    <tr>\n",
       "      <th>2126</th>\n",
       "      <td>2127</td>\n",
       "      <td>USC00519397</td>\n",
       "      <td>2016-02-05</td>\n",
       "      <td>0.00</td>\n",
       "      <td>69</td>\n",
       "    </tr>\n",
       "    <tr>\n",
       "      <th>2127</th>\n",
       "      <td>2128</td>\n",
       "      <td>USC00519397</td>\n",
       "      <td>2016-02-06</td>\n",
       "      <td>0.00</td>\n",
       "      <td>72</td>\n",
       "    </tr>\n",
       "    <tr>\n",
       "      <th>2128</th>\n",
       "      <td>2129</td>\n",
       "      <td>USC00519397</td>\n",
       "      <td>2016-02-07</td>\n",
       "      <td>0.02</td>\n",
       "      <td>68</td>\n",
       "    </tr>\n",
       "  </tbody>\n",
       "</table>\n",
       "</div>"
      ],
      "text/plain": [
       "        id      station       date  prcp  tobs\n",
       "2109  2110  USC00519397 2016-01-19  0.00    63\n",
       "2110  2111  USC00519397 2016-01-20  0.00    68\n",
       "2111  2112  USC00519397 2016-01-21  0.00    71\n",
       "2112  2113  USC00519397 2016-01-22  0.00    70\n",
       "2113  2114  USC00519397 2016-01-23  0.00    70\n",
       "2114  2115  USC00519397 2016-01-24  0.00    70\n",
       "2115  2116  USC00519397 2016-01-25  0.04    71\n",
       "2116  2117  USC00519397 2016-01-26  0.16    68\n",
       "2117  2118  USC00519397 2016-01-27  0.01    68\n",
       "2118  2119  USC00519397 2016-01-28  0.00    65\n",
       "2119  2120  USC00519397 2016-01-29  0.00    67\n",
       "2120  2121  USC00519397 2016-01-30  0.00    65\n",
       "2121  2122  USC00519397 2016-01-31  0.00    69\n",
       "2122  2123  USC00519397 2016-02-01  0.00    69\n",
       "2123  2124  USC00519397 2016-02-02  0.06    68\n",
       "2124  2125  USC00519397 2016-02-03  0.00    70\n",
       "2125  2126  USC00519397 2016-02-04  0.00    66\n",
       "2126  2127  USC00519397 2016-02-05  0.00    69\n",
       "2127  2128  USC00519397 2016-02-06  0.00    72\n",
       "2128  2129  USC00519397 2016-02-07  0.02    68"
      ]
     },
     "execution_count": 76,
     "metadata": {},
     "output_type": "execute_result"
    }
   ],
   "source": [
    "twelve_month_data = measurement[(measurement['date'] > '2016-01-18') & (measurement['date'] < '2017-01-18')]\n",
    "twelve_month_data.head(20)"
   ]
  },
  {
   "cell_type": "code",
   "execution_count": 90,
   "metadata": {},
   "outputs": [
    {
     "data": {
      "text/html": [
       "<div>\n",
       "<style>\n",
       "    .dataframe thead tr:only-child th {\n",
       "        text-align: right;\n",
       "    }\n",
       "\n",
       "    .dataframe thead th {\n",
       "        text-align: left;\n",
       "    }\n",
       "\n",
       "    .dataframe tbody tr th {\n",
       "        vertical-align: top;\n",
       "    }\n",
       "</style>\n",
       "<table border=\"1\" class=\"dataframe\">\n",
       "  <thead>\n",
       "    <tr style=\"text-align: right;\">\n",
       "      <th></th>\n",
       "      <th>prcp</th>\n",
       "    </tr>\n",
       "    <tr>\n",
       "      <th>date</th>\n",
       "      <th></th>\n",
       "    </tr>\n",
       "  </thead>\n",
       "  <tbody>\n",
       "    <tr>\n",
       "      <th>2016-01-19</th>\n",
       "      <td>0.00</td>\n",
       "    </tr>\n",
       "    <tr>\n",
       "      <th>2016-01-20</th>\n",
       "      <td>0.00</td>\n",
       "    </tr>\n",
       "    <tr>\n",
       "      <th>2016-01-21</th>\n",
       "      <td>0.00</td>\n",
       "    </tr>\n",
       "    <tr>\n",
       "      <th>2016-01-22</th>\n",
       "      <td>0.00</td>\n",
       "    </tr>\n",
       "    <tr>\n",
       "      <th>2016-01-23</th>\n",
       "      <td>0.00</td>\n",
       "    </tr>\n",
       "    <tr>\n",
       "      <th>2016-01-24</th>\n",
       "      <td>0.00</td>\n",
       "    </tr>\n",
       "    <tr>\n",
       "      <th>2016-01-25</th>\n",
       "      <td>0.04</td>\n",
       "    </tr>\n",
       "    <tr>\n",
       "      <th>2016-01-26</th>\n",
       "      <td>0.16</td>\n",
       "    </tr>\n",
       "    <tr>\n",
       "      <th>2016-01-27</th>\n",
       "      <td>0.01</td>\n",
       "    </tr>\n",
       "    <tr>\n",
       "      <th>2016-01-28</th>\n",
       "      <td>0.00</td>\n",
       "    </tr>\n",
       "    <tr>\n",
       "      <th>2016-01-29</th>\n",
       "      <td>0.00</td>\n",
       "    </tr>\n",
       "    <tr>\n",
       "      <th>2016-01-30</th>\n",
       "      <td>0.00</td>\n",
       "    </tr>\n",
       "    <tr>\n",
       "      <th>2016-01-31</th>\n",
       "      <td>0.00</td>\n",
       "    </tr>\n",
       "    <tr>\n",
       "      <th>2016-02-01</th>\n",
       "      <td>0.00</td>\n",
       "    </tr>\n",
       "    <tr>\n",
       "      <th>2016-02-02</th>\n",
       "      <td>0.06</td>\n",
       "    </tr>\n",
       "    <tr>\n",
       "      <th>2016-02-03</th>\n",
       "      <td>0.00</td>\n",
       "    </tr>\n",
       "    <tr>\n",
       "      <th>2016-02-04</th>\n",
       "      <td>0.00</td>\n",
       "    </tr>\n",
       "    <tr>\n",
       "      <th>2016-02-05</th>\n",
       "      <td>0.00</td>\n",
       "    </tr>\n",
       "    <tr>\n",
       "      <th>2016-02-06</th>\n",
       "      <td>0.00</td>\n",
       "    </tr>\n",
       "    <tr>\n",
       "      <th>2016-02-07</th>\n",
       "      <td>0.02</td>\n",
       "    </tr>\n",
       "  </tbody>\n",
       "</table>\n",
       "</div>"
      ],
      "text/plain": [
       "            prcp\n",
       "date            \n",
       "2016-01-19  0.00\n",
       "2016-01-20  0.00\n",
       "2016-01-21  0.00\n",
       "2016-01-22  0.00\n",
       "2016-01-23  0.00\n",
       "2016-01-24  0.00\n",
       "2016-01-25  0.04\n",
       "2016-01-26  0.16\n",
       "2016-01-27  0.01\n",
       "2016-01-28  0.00\n",
       "2016-01-29  0.00\n",
       "2016-01-30  0.00\n",
       "2016-01-31  0.00\n",
       "2016-02-01  0.00\n",
       "2016-02-02  0.06\n",
       "2016-02-03  0.00\n",
       "2016-02-04  0.00\n",
       "2016-02-05  0.00\n",
       "2016-02-06  0.00\n",
       "2016-02-07  0.02"
      ]
     },
     "execution_count": 90,
     "metadata": {},
     "output_type": "execute_result"
    }
   ],
   "source": [
    "twelve_month_prcp = twelve_month_data[['date','prcp']].set_index('date')\n",
    "twelve_month_prcp.head(20)"
   ]
  },
  {
   "cell_type": "code",
   "execution_count": 92,
   "metadata": {
    "collapsed": true
   },
   "outputs": [],
   "source": [
    "from bokeh.plotting import figure, show, output_file"
   ]
  },
  {
   "cell_type": "code",
   "execution_count": 93,
   "metadata": {},
   "outputs": [],
   "source": [
    "output_file('vbar.html')"
   ]
  },
  {
   "cell_type": "code",
   "execution_count": 94,
   "metadata": {},
   "outputs": [],
   "source": [
    "p = figure(plot_width=400, plot_height=400)"
   ]
  },
  {
   "cell_type": "code",
   "execution_count": null,
   "metadata": {
    "collapsed": true
   },
   "outputs": [],
   "source": []
  }
 ],
 "metadata": {
  "kernelspec": {
   "display_name": "Python 3",
   "language": "python",
   "name": "python3"
  },
  "language_info": {
   "codemirror_mode": {
    "name": "ipython",
    "version": 3
   },
   "file_extension": ".py",
   "mimetype": "text/x-python",
   "name": "python",
   "nbconvert_exporter": "python",
   "pygments_lexer": "ipython3",
   "version": "3.6.1"
  }
 },
 "nbformat": 4,
 "nbformat_minor": 2
}
